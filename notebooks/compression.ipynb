{
 "cells": [
  {
   "cell_type": "code",
   "execution_count": 1,
   "metadata": {
    "collapsed": true
   },
   "outputs": [],
   "source": [
    "%load_ext autoreload\n",
    "%autoreload 2"
   ]
  },
  {
   "cell_type": "code",
   "execution_count": 3,
   "metadata": {
    "collapsed": true
   },
   "outputs": [],
   "source": [
    "import matplotlib.pyplot as plt\n",
    "import numpy as np\n",
    "%matplotlib inline"
   ]
  },
  {
   "cell_type": "code",
   "execution_count": 5,
   "metadata": {
    "collapsed": true
   },
   "outputs": [],
   "source": [
    "from our_mpeg import (\n",
    "    compress_image,\n",
    "    compress_image_with_reference,\n",
    "    decompress_image,\n",
    "    load\n",
    ")"
   ]
  },
  {
   "cell_type": "code",
   "execution_count": 4,
   "metadata": {
    "collapsed": true
   },
   "outputs": [],
   "source": [
    "example = load(\"/home/sidor/Dropbox/light_filed_video/bottle.zip\")"
   ]
  },
  {
   "cell_type": "code",
   "execution_count": 6,
   "metadata": {
    "collapsed": true
   },
   "outputs": [],
   "source": [
    "import os\n",
    "import gzip\n",
    "\n",
    "def append_compressed(filename, im1_offsets, im1_residuals_q):\n",
    "    with gzip.open(filename, 'ab+') as f:\n",
    "        np.save(f, np.array(im1_offsets, dtype=np.int8))\n",
    "        np.save(f, np.array(im1_residuals_q))\n",
    "        \n",
    "#     with gzip.open(filename, 'rb') as f:\n",
    "#         a = np.load(f)\n",
    "#         b = np.load(f)\n",
    "#         print(\"ERROR\", np.linalg.norm(a - np.array(im1_offsets)), a.dtype)\n",
    "#         print(\"ERROR\", np.linalg.norm(b - np.array(im1_residuals_q)), b.dtype)\n",
    "#         print(f.name)"
   ]
  },
  {
   "cell_type": "markdown",
   "metadata": {},
   "source": [
    "# Compression with no reference"
   ]
  },
  {
   "cell_type": "code",
   "execution_count": 15,
   "metadata": {
    "collapsed": false,
    "scrolled": true
   },
   "outputs": [
    {
     "name": "stdout",
     "output_type": "stream",
     "text": [
      "Timestep 0 Size after zipping 33878\n",
      "Timestep 1 Size after zipping 67826\n",
      "Timestep 2 Size after zipping 101885\n",
      "Timestep 3 Size after zipping 135978\n",
      "Timestep 4 Size after zipping 170129\n",
      "Timestep 5 Size after zipping 204538\n",
      "Timestep 6 Size after zipping 239326\n",
      "Timestep 7 Size after zipping 274146\n",
      "Timestep 8 Size after zipping 309151\n",
      "Timestep 9 Size after zipping 344514\n",
      "Timestep 10 Size after zipping 380045\n",
      "Timestep 11 Size after zipping 415692\n",
      "Timestep 12 Size after zipping 451586\n",
      "Timestep 13 Size after zipping 487470\n",
      "Timestep 14 Size after zipping 523451\n",
      "Timestep 15 Size after zipping 559565\n",
      "Timestep 16 Size after zipping 595717\n",
      "Timestep 17 Size after zipping 631765\n",
      "Timestep 18 Size after zipping 668001\n",
      "Timestep 19 Size after zipping 704257\n",
      "Timestep 20 Size after zipping 740602\n",
      "Timestep 21 Size after zipping 777135\n",
      "Timestep 22 Size after zipping 813593\n",
      "Timestep 23 Size after zipping 850481\n",
      "Timestep 24 Size after zipping 887488\n",
      "Timestep 25 Size after zipping 924739\n",
      "Timestep 26 Size after zipping 962329\n",
      "Timestep 27 Size after zipping 1000155\n",
      "Timestep 28 Size after zipping 1038044\n",
      "Timestep 29 Size after zipping 1076007\n",
      "Timestep 30 Size after zipping 1114204\n",
      "Timestep 31 Size after zipping 1152389\n",
      "Timestep 32 Size after zipping 1191273\n",
      "Timestep 33 Size after zipping 1230376\n",
      "Timestep 34 Size after zipping 1269263\n",
      "Timestep 35 Size after zipping 1308579\n",
      "Timestep 36 Size after zipping 1347982\n",
      "Timestep 37 Size after zipping 1388046\n",
      "Timestep 38 Size after zipping 1428324\n",
      "Timestep 39 Size after zipping 1468710\n",
      "Timestep 40 Size after zipping 1508889\n",
      "Timestep 41 Size after zipping 1549089\n",
      "Timestep 42 Size after zipping 1588699\n",
      "Timestep 43 Size after zipping 1628412\n",
      "Timestep 44 Size after zipping 1668861\n",
      "Timestep 45 Size after zipping 1709321\n",
      "Timestep 46 Size after zipping 1749741\n",
      "Timestep 47 Size after zipping 1790676\n",
      "Timestep 48 Size after zipping 1832145\n",
      "Timestep 49 Size after zipping 1873944\n",
      "Timestep 50 Size after zipping 1915681\n",
      "Timestep 51 Size after zipping 1957071\n",
      "Timestep 52 Size after zipping 1998509\n",
      "Timestep 53 Size after zipping 2039412\n",
      "Timestep 54 Size after zipping 2080866\n",
      "Timestep 55 Size after zipping 2122885\n",
      "Timestep 56 Size after zipping 2165019\n",
      "Timestep 57 Size after zipping 2207215\n",
      "Timestep 58 Size after zipping 2249563\n",
      "Timestep 59 Size after zipping 2292175\n",
      "Timestep 60 Size after zipping 2334667\n",
      "Timestep 61 Size after zipping 2377165\n",
      "Timestep 62 Size after zipping 2419465\n",
      "Timestep 63 Size after zipping 2461732\n",
      "Timestep 64 Size after zipping 2503886\n",
      "Timestep 65 Size after zipping 2546120\n",
      "Timestep 66 Size after zipping 2588281\n",
      "Timestep 67 Size after zipping 2630238\n",
      "Timestep 68 Size after zipping 2672264\n",
      "Timestep 69 Size after zipping 2714298\n",
      "Timestep 70 Size after zipping 2756367\n",
      "Timestep 71 Size after zipping 2798484\n"
     ]
    }
   ],
   "source": [
    "FILENAME = '/tmp/video.mp4.gz'\n",
    "\n",
    "if os.path.exists(FILENAME):\n",
    "    _ = os.remove(FILENAME)\n",
    "\n",
    "for t in range(example.shape[0]):\n",
    "    cur_img = example[t,0,0,:,:, :]\n",
    "\n",
    "    a = compress_image(cur_img)\n",
    "    with gzip.open(FILENAME, 'ab+') as f:\n",
    "        np.save(f, np.array(a))\n",
    "\n",
    "    print(\"Timestep\", t, \"Size after zipping\", os.path.getsize(FILENAME), flush=True)"
   ]
  },
  {
   "cell_type": "markdown",
   "metadata": {},
   "source": [
    "# Compression with prev as reference"
   ]
  },
  {
   "cell_type": "code",
   "execution_count": 16,
   "metadata": {
    "collapsed": false
   },
   "outputs": [
    {
     "name": "stdout",
     "output_type": "stream",
     "text": [
      "Timestep 0 Size after zipping 20220\n",
      "Timestep 1 Size after zipping 48684\n",
      "Timestep 2 Size after zipping 80184\n",
      "Timestep 3 Size after zipping 113191\n",
      "Timestep 4 Size after zipping 148437\n",
      "Timestep 5 Size after zipping 183515\n",
      "Timestep 6 Size after zipping 218889\n",
      "Timestep 7 Size after zipping 255388\n",
      "Timestep 8 Size after zipping 292556\n",
      "Timestep 9 Size after zipping 330029\n",
      "Timestep 10 Size after zipping 368992\n",
      "Timestep 11 Size after zipping 409352\n",
      "Timestep 12 Size after zipping 452550\n",
      "Timestep 13 Size after zipping 497749\n",
      "Timestep 14 Size after zipping 545280\n",
      "Timestep 15 Size after zipping 594060\n",
      "Timestep 16 Size after zipping 644621\n",
      "Timestep 17 Size after zipping 696868\n",
      "Timestep 18 Size after zipping 750929\n",
      "Timestep 19 Size after zipping 806796\n",
      "Timestep 20 Size after zipping 864610\n",
      "Timestep 21 Size after zipping 924032\n",
      "Timestep 22 Size after zipping 984675\n",
      "Timestep 23 Size after zipping 1046320\n",
      "Timestep 24 Size after zipping 1109923\n",
      "Timestep 25 Size after zipping 1174826\n",
      "Timestep 26 Size after zipping 1240553\n",
      "Timestep 27 Size after zipping 1307011\n",
      "Timestep 28 Size after zipping 1374480\n",
      "Timestep 29 Size after zipping 1442296\n",
      "Timestep 30 Size after zipping 1511139\n",
      "Timestep 31 Size after zipping 1580939\n",
      "Timestep 32 Size after zipping 1651637\n",
      "Timestep 33 Size after zipping 1722766\n",
      "Timestep 34 Size after zipping 1794349\n",
      "Timestep 35 Size after zipping 1865981\n",
      "Timestep 36 Size after zipping 1938317\n",
      "Timestep 37 Size after zipping 2010868\n",
      "Timestep 38 Size after zipping 2083201\n",
      "Timestep 39 Size after zipping 2155938\n",
      "Timestep 40 Size after zipping 2228715\n",
      "Timestep 41 Size after zipping 2300712\n",
      "Timestep 42 Size after zipping 2370932\n",
      "Timestep 43 Size after zipping 2440450\n",
      "Timestep 44 Size after zipping 2509009\n",
      "Timestep 45 Size after zipping 2576375\n",
      "Timestep 46 Size after zipping 2642723\n",
      "Timestep 47 Size after zipping 2707993\n",
      "Timestep 48 Size after zipping 2772492\n",
      "Timestep 49 Size after zipping 2834626\n",
      "Timestep 50 Size after zipping 2896125\n",
      "Timestep 51 Size after zipping 2955471\n",
      "Timestep 52 Size after zipping 3012562\n",
      "Timestep 53 Size after zipping 3067922\n",
      "Timestep 54 Size after zipping 3121398\n",
      "Timestep 55 Size after zipping 3172169\n",
      "Timestep 56 Size after zipping 3220375\n",
      "Timestep 57 Size after zipping 3266365\n",
      "Timestep 58 Size after zipping 3309916\n",
      "Timestep 59 Size after zipping 3352291\n",
      "Timestep 60 Size after zipping 3393682\n",
      "Timestep 61 Size after zipping 3434271\n",
      "Timestep 62 Size after zipping 3473861\n",
      "Timestep 63 Size after zipping 3512986\n",
      "Timestep 64 Size after zipping 3550132\n",
      "Timestep 65 Size after zipping 3585244\n",
      "Timestep 66 Size after zipping 3618909\n",
      "Timestep 67 Size after zipping 3652455\n",
      "Timestep 68 Size after zipping 3686752\n",
      "Timestep 69 Size after zipping 3720196\n",
      "Timestep 70 Size after zipping 3743780\n"
     ]
    }
   ],
   "source": [
    "FILENAME = '/tmp/video.mp4.gz'\n",
    "\n",
    "if os.path.exists(FILENAME):\n",
    "    _ = os.remove(FILENAME)\n",
    "\n",
    "for t in range(example.shape[0] - 1):\n",
    "    next_img = example[t+1,0,0,:,:, :]\n",
    "    prev_img = example[t,0,0,:,:,:]\n",
    "\n",
    "    a, b = compress_image_with_reference(next_img, prev_img)\n",
    "    append_compressed(FILENAME, a, b)\n",
    "\n",
    "    print(\"Timestep\", t, \"Size after zipping\", os.path.getsize(FILENAME), flush=True)"
   ]
  },
  {
   "cell_type": "code",
   "execution_count": null,
   "metadata": {
    "collapsed": true
   },
   "outputs": [],
   "source": []
  }
 ],
 "metadata": {
  "kernelspec": {
   "display_name": "Python 3",
   "language": "python",
   "name": "python3"
  },
  "language_info": {
   "codemirror_mode": {
    "name": "ipython",
    "version": 3
   },
   "file_extension": ".py",
   "mimetype": "text/x-python",
   "name": "python",
   "nbconvert_exporter": "python",
   "pygments_lexer": "ipython3",
   "version": "3.4.1"
  }
 },
 "nbformat": 4,
 "nbformat_minor": 0
}
